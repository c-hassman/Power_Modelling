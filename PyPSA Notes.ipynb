{
 "cells": [
  {
   "cell_type": "markdown",
   "metadata": {},
   "source": [
    "# PyPSA\n",
    "\n",
    "Python for Power Systems Analysis (PyPSA, pronounced pipe-sah) is developed by a group at Karlruhe University. A sister module: PyPSA-EUR provides PyPSA toolkits specifically for modelling European Power markets, including data. \n",
    "\n",
    "Under the hood, PyPSA uses the same backend as Minpower: Pyomo to set the linear opitimization problem, a solver of your choice (such as GLPK), and then the normal stuff like pandas, numpy, scipy, matplotlib, etc. \n",
    "\n",
    "- "
   ]
  }
 ],
 "metadata": {
  "kernelspec": {
   "display_name": "Python 3",
   "language": "python",
   "name": "python3"
  },
  "language_info": {
   "codemirror_mode": {
    "name": "ipython",
    "version": 3
   },
   "file_extension": ".py",
   "mimetype": "text/x-python",
   "name": "python",
   "nbconvert_exporter": "python",
   "pygments_lexer": "ipython3",
   "version": "3.8.5"
  }
 },
 "nbformat": 4,
 "nbformat_minor": 4
}
