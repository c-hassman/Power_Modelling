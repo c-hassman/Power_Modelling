{
 "cells": [
  {
   "cell_type": "markdown",
   "id": "9cf1c4c8",
   "metadata": {},
   "source": [
    "July 18, 2021\n",
    "\n",
    "Building off Simple ERCOT_01, which was the first model I built (and am quite proud of). The goals for this version is three-fold:\n",
    "- Practice using virtual enviroments\n",
    "- Upload grid specifications via CSVs\n",
    "- Create more realistic and complex assumptions\n",
    "\n",
    "For the assumptions, here is the primary resource: https://pypsa.readthedocs.io/en/latest/examples/unit-commitment.html\n",
    "\n",
    "Here are all of the components: https://pypsa.readthedocs.io/en/latest/components.html\n",
    "\n",
    "PyPSA has a built in function for uploading via CSVs (I'd like to look under the hood). I can also import from pandas Dataframe: https://pypsa.readthedocs.io/en/latest/api_reference.html#pypsa.Network.import_components_from_dataframe  I think I prefer to update from pandas dataframes. \n",
    "\n",
    "Here is another great resource, especially for plotting but also for uploading data: https://www.pypsa.org/examples/scigrid-lopf-then-pf-plotly.html"
   ]
  },
  {
   "cell_type": "code",
   "execution_count": 1,
   "id": "cafbc11e",
   "metadata": {},
   "outputs": [],
   "source": [
    "import pypsa, numpy as np, matplotlib.pyplot as plt, pandas as pd"
   ]
  },
  {
   "cell_type": "code",
   "execution_count": 2,
   "id": "9bb88ef9",
   "metadata": {
    "scrolled": true
   },
   "outputs": [
    {
     "data": {
      "text/html": [
       "<div>\n",
       "<style scoped>\n",
       "    .dataframe tbody tr th:only-of-type {\n",
       "        vertical-align: middle;\n",
       "    }\n",
       "\n",
       "    .dataframe tbody tr th {\n",
       "        vertical-align: top;\n",
       "    }\n",
       "\n",
       "    .dataframe thead th {\n",
       "        text-align: right;\n",
       "    }\n",
       "</style>\n",
       "<table border=\"1\" class=\"dataframe\">\n",
       "  <thead>\n",
       "    <tr style=\"text-align: right;\">\n",
       "      <th></th>\n",
       "      <th>v_nom</th>\n",
       "      <th>control</th>\n",
       "    </tr>\n",
       "  </thead>\n",
       "  <tbody>\n",
       "    <tr>\n",
       "      <th>Berlin</th>\n",
       "      <td>380</td>\n",
       "      <td>PV</td>\n",
       "    </tr>\n",
       "    <tr>\n",
       "      <th>Frankfurt</th>\n",
       "      <td>380</td>\n",
       "      <td>PV</td>\n",
       "    </tr>\n",
       "    <tr>\n",
       "      <th>Munich</th>\n",
       "      <td>380</td>\n",
       "      <td>PV</td>\n",
       "    </tr>\n",
       "    <tr>\n",
       "      <th>Hamburg</th>\n",
       "      <td>380</td>\n",
       "      <td>PV</td>\n",
       "    </tr>\n",
       "  </tbody>\n",
       "</table>\n",
       "</div>"
      ],
      "text/plain": [
       "           v_nom control\n",
       "Berlin       380      PV\n",
       "Frankfurt    380      PV\n",
       "Munich       380      PV\n",
       "Hamburg      380      PV"
      ]
     },
     "execution_count": 2,
     "metadata": {},
     "output_type": "execute_result"
    }
   ],
   "source": [
    "# These are the examples found in the link above. I just need to see the format. \n",
    "# Interesting to also see the different options. Clearly a \"good\" accurate model\n",
    "# Would be very complex. \n",
    "buses = ['Berlin', 'Frankfurt', 'Munich', 'Hamburg']\n",
    "\n",
    "df_0 = pd.DataFrame({\"v_nom\" : 380, \"control\" : 'PV'},\n",
    "                    index=buses)\n",
    "df_0        "
   ]
  },
  {
   "cell_type": "code",
   "execution_count": 3,
   "id": "a90ab712",
   "metadata": {},
   "outputs": [
    {
     "data": {
      "text/html": [
       "<div>\n",
       "<style scoped>\n",
       "    .dataframe tbody tr th:only-of-type {\n",
       "        vertical-align: middle;\n",
       "    }\n",
       "\n",
       "    .dataframe tbody tr th {\n",
       "        vertical-align: top;\n",
       "    }\n",
       "\n",
       "    .dataframe thead th {\n",
       "        text-align: right;\n",
       "    }\n",
       "</style>\n",
       "<table border=\"1\" class=\"dataframe\">\n",
       "  <thead>\n",
       "    <tr style=\"text-align: right;\">\n",
       "      <th></th>\n",
       "      <th>carrier</th>\n",
       "      <th>bus</th>\n",
       "      <th>p_nom_extendable</th>\n",
       "    </tr>\n",
       "  </thead>\n",
       "  <tbody>\n",
       "    <tr>\n",
       "      <th>Berlin PV</th>\n",
       "      <td>solar</td>\n",
       "      <td>Berlin</td>\n",
       "      <td>True</td>\n",
       "    </tr>\n",
       "    <tr>\n",
       "      <th>Frankfurt PV</th>\n",
       "      <td>solar</td>\n",
       "      <td>Frankfurt</td>\n",
       "      <td>True</td>\n",
       "    </tr>\n",
       "    <tr>\n",
       "      <th>Munich PV</th>\n",
       "      <td>solar</td>\n",
       "      <td>Munich</td>\n",
       "      <td>True</td>\n",
       "    </tr>\n",
       "    <tr>\n",
       "      <th>Hamburg PV</th>\n",
       "      <td>solar</td>\n",
       "      <td>Hamburg</td>\n",
       "      <td>True</td>\n",
       "    </tr>\n",
       "  </tbody>\n",
       "</table>\n",
       "</div>"
      ],
      "text/plain": [
       "             carrier        bus  p_nom_extendable\n",
       "Berlin PV      solar     Berlin              True\n",
       "Frankfurt PV   solar  Frankfurt              True\n",
       "Munich PV      solar     Munich              True\n",
       "Hamburg PV     solar    Hamburg              True"
      ]
     },
     "execution_count": 3,
     "metadata": {},
     "output_type": "execute_result"
    }
   ],
   "source": [
    "df_1 = pd.DataFrame({\"carrier\" : \"solar\", \"bus\" : buses, \"p_nom_extendable\" : True},\n",
    "                    index=[b+\" PV\" for b in buses])\n",
    "df_1\n",
    "\n",
    "# Notes on Carrier from Components Website: Energy carrier, such as AC, DC, heat, wind, PV or coal. \n",
    "# Buses have direct carriers and Generators indicate their primary energy carriers.\n",
    "# The Carrier can track properties relevant for global constraints, such as CO2 emissions."
   ]
  },
  {
   "cell_type": "code",
   "execution_count": 4,
   "id": "19986f6e",
   "metadata": {},
   "outputs": [
    {
     "data": {
      "text/html": [
       "<div>\n",
       "<style scoped>\n",
       "    .dataframe tbody tr th:only-of-type {\n",
       "        vertical-align: middle;\n",
       "    }\n",
       "\n",
       "    .dataframe tbody tr th {\n",
       "        vertical-align: top;\n",
       "    }\n",
       "\n",
       "    .dataframe thead th {\n",
       "        text-align: right;\n",
       "    }\n",
       "</style>\n",
       "<table border=\"1\" class=\"dataframe\">\n",
       "  <thead>\n",
       "    <tr style=\"text-align: right;\">\n",
       "      <th></th>\n",
       "      <th>North</th>\n",
       "      <th>South</th>\n",
       "      <th>West</th>\n",
       "      <th>Houston</th>\n",
       "    </tr>\n",
       "    <tr>\n",
       "      <th>Time</th>\n",
       "      <th></th>\n",
       "      <th></th>\n",
       "      <th></th>\n",
       "      <th></th>\n",
       "    </tr>\n",
       "  </thead>\n",
       "  <tbody>\n",
       "    <tr>\n",
       "      <th>2021-07-18 00:00:00</th>\n",
       "      <td>5</td>\n",
       "      <td>3.75</td>\n",
       "      <td>1.15</td>\n",
       "      <td>7.75</td>\n",
       "    </tr>\n",
       "    <tr>\n",
       "      <th>2021-07-18 00:30:00</th>\n",
       "      <td>5</td>\n",
       "      <td>3.75</td>\n",
       "      <td>1.15</td>\n",
       "      <td>7.75</td>\n",
       "    </tr>\n",
       "    <tr>\n",
       "      <th>2021-07-18 01:00:00</th>\n",
       "      <td>5</td>\n",
       "      <td>3.75</td>\n",
       "      <td>1.15</td>\n",
       "      <td>7.75</td>\n",
       "    </tr>\n",
       "    <tr>\n",
       "      <th>2021-07-18 01:30:00</th>\n",
       "      <td>6</td>\n",
       "      <td>5.50</td>\n",
       "      <td>1.58</td>\n",
       "      <td>8.90</td>\n",
       "    </tr>\n",
       "    <tr>\n",
       "      <th>2021-07-18 02:00:00</th>\n",
       "      <td>5</td>\n",
       "      <td>3.75</td>\n",
       "      <td>1.15</td>\n",
       "      <td>7.75</td>\n",
       "    </tr>\n",
       "  </tbody>\n",
       "</table>\n",
       "</div>"
      ],
      "text/plain": [
       "                     North  South  West  Houston\n",
       "Time                                            \n",
       "2021-07-18 00:00:00      5   3.75  1.15     7.75\n",
       "2021-07-18 00:30:00      5   3.75  1.15     7.75\n",
       "2021-07-18 01:00:00      5   3.75  1.15     7.75\n",
       "2021-07-18 01:30:00      6   5.50  1.58     8.90\n",
       "2021-07-18 02:00:00      5   3.75  1.15     7.75"
      ]
     },
     "execution_count": 4,
     "metadata": {},
     "output_type": "execute_result"
    }
   ],
   "source": [
    "# Upload and Visualize Loads\n",
    "#  These are just random example loads\n",
    "# 30 min granularity\n",
    "load_df = pd.read_csv(\"load_01.csv\")\n",
    "load_df['Time'] = pd.to_datetime(load_df['Time'])\n",
    "load_df = load_df.set_index(\"Time\")\n",
    "load_df.head()"
   ]
  },
  {
   "cell_type": "code",
   "execution_count": 5,
   "id": "925d5fcf",
   "metadata": {
    "scrolled": false
   },
   "outputs": [
    {
     "data": {
      "image/png": "[encoded data removed]",
      "text/plain": [
       "<Figure size 864x432 with 1 Axes>"
      ]
     },
     "metadata": {
      "needs_background": "light"
     },
     "output_type": "display_data"
    }
   ],
   "source": [
    "# LOAD PROFILE\n",
    "zones = ['North', 'South', 'West', 'Houston']\n",
    "\n",
    "for zone in zones:\n",
    "    load_df[\"{}\".format(zone)].plot(label = \"{}\".format(zone), figsize = (12,6))\n",
    "plt.title(\"Load Profile by Zone\")\n",
    "plt.legend()\n",
    "plt.show()"
   ]
  },
  {
   "cell_type": "code",
   "execution_count": 23,
   "id": "f5ae2839",
   "metadata": {},
   "outputs": [
    {
     "data": {
      "text/html": [
       "<div>\n",
       "<style scoped>\n",
       "    .dataframe tbody tr th:only-of-type {\n",
       "        vertical-align: middle;\n",
       "    }\n",
       "\n",
       "    .dataframe tbody tr th {\n",
       "        vertical-align: top;\n",
       "    }\n",
       "\n",
       "    .dataframe thead th {\n",
       "        text-align: right;\n",
       "    }\n",
       "</style>\n",
       "<table border=\"1\" class=\"dataframe\">\n",
       "  <thead>\n",
       "    <tr style=\"text-align: right;\">\n",
       "      <th></th>\n",
       "      <th>Time</th>\n",
       "      <th>N_solar</th>\n",
       "      <th>S_solar</th>\n",
       "      <th>W_solar</th>\n",
       "      <th>H_solar</th>\n",
       "      <th>N_Wind</th>\n",
       "      <th>S_wind</th>\n",
       "      <th>W_wind</th>\n",
       "      <th>H_wind</th>\n",
       "    </tr>\n",
       "    <tr>\n",
       "      <th>Time</th>\n",
       "      <th></th>\n",
       "      <th></th>\n",
       "      <th></th>\n",
       "      <th></th>\n",
       "      <th></th>\n",
       "      <th></th>\n",
       "      <th></th>\n",
       "      <th></th>\n",
       "      <th></th>\n",
       "    </tr>\n",
       "  </thead>\n",
       "  <tbody>\n",
       "    <tr>\n",
       "      <th>2021-07-18 00:00:00</th>\n",
       "      <td>2021-07-18 00:00:00</td>\n",
       "      <td>0.0</td>\n",
       "      <td>0.0</td>\n",
       "      <td>0.0</td>\n",
       "      <td>0.0</td>\n",
       "      <td>0.6</td>\n",
       "      <td>0.6</td>\n",
       "      <td>0.6</td>\n",
       "      <td>0.6</td>\n",
       "    </tr>\n",
       "    <tr>\n",
       "      <th>2021-07-18 00:30:00</th>\n",
       "      <td>2021-07-18 00:30:00</td>\n",
       "      <td>0.0</td>\n",
       "      <td>0.0</td>\n",
       "      <td>0.0</td>\n",
       "      <td>0.0</td>\n",
       "      <td>0.5</td>\n",
       "      <td>0.5</td>\n",
       "      <td>0.5</td>\n",
       "      <td>0.5</td>\n",
       "    </tr>\n",
       "    <tr>\n",
       "      <th>2021-07-18 01:00:00</th>\n",
       "      <td>2021-07-18 01:00:00</td>\n",
       "      <td>0.0</td>\n",
       "      <td>0.0</td>\n",
       "      <td>0.0</td>\n",
       "      <td>0.0</td>\n",
       "      <td>0.6</td>\n",
       "      <td>0.6</td>\n",
       "      <td>0.6</td>\n",
       "      <td>0.6</td>\n",
       "    </tr>\n",
       "    <tr>\n",
       "      <th>2021-07-18 01:30:00</th>\n",
       "      <td>2021-07-18 01:30:00</td>\n",
       "      <td>0.0</td>\n",
       "      <td>0.0</td>\n",
       "      <td>0.0</td>\n",
       "      <td>0.0</td>\n",
       "      <td>0.6</td>\n",
       "      <td>0.6</td>\n",
       "      <td>0.6</td>\n",
       "      <td>0.6</td>\n",
       "    </tr>\n",
       "    <tr>\n",
       "      <th>2021-07-18 02:00:00</th>\n",
       "      <td>2021-07-18 02:00:00</td>\n",
       "      <td>0.0</td>\n",
       "      <td>0.0</td>\n",
       "      <td>0.0</td>\n",
       "      <td>0.0</td>\n",
       "      <td>0.7</td>\n",
       "      <td>0.7</td>\n",
       "      <td>0.7</td>\n",
       "      <td>0.7</td>\n",
       "    </tr>\n",
       "  </tbody>\n",
       "</table>\n",
       "</div>"
      ],
      "text/plain": [
       "                                   Time  N_solar  S_solar  W_solar  H_solar  \\\n",
       "Time                                                                          \n",
       "2021-07-18 00:00:00 2021-07-18 00:00:00      0.0      0.0      0.0      0.0   \n",
       "2021-07-18 00:30:00 2021-07-18 00:30:00      0.0      0.0      0.0      0.0   \n",
       "2021-07-18 01:00:00 2021-07-18 01:00:00      0.0      0.0      0.0      0.0   \n",
       "2021-07-18 01:30:00 2021-07-18 01:30:00      0.0      0.0      0.0      0.0   \n",
       "2021-07-18 02:00:00 2021-07-18 02:00:00      0.0      0.0      0.0      0.0   \n",
       "\n",
       "                     N_Wind  S_wind  W_wind  H_wind  \n",
       "Time                                                 \n",
       "2021-07-18 00:00:00     0.6     0.6     0.6     0.6  \n",
       "2021-07-18 00:30:00     0.5     0.5     0.5     0.5  \n",
       "2021-07-18 01:00:00     0.6     0.6     0.6     0.6  \n",
       "2021-07-18 01:30:00     0.6     0.6     0.6     0.6  \n",
       "2021-07-18 02:00:00     0.7     0.7     0.7     0.7  "
      ]
     },
     "execution_count": 23,
     "metadata": {},
     "output_type": "execute_result"
    }
   ],
   "source": [
    "# RENEWABLE GEN PROFILE\n",
    "\n",
    "# As with the load profiles, these are only examples\n",
    "ren_gen_df = pd.read_csv(\"ren_gen_profiles_01.csv\")\n",
    "ren_gen_df['Time'] = pd.to_datetime(ren_gen_df['Time'])\n",
    "ren_gen_df = ren_gen_df.set_index(ren_gen_df['Time'])\n",
    "ren_gen_df.head()"
   ]
  },
  {
   "cell_type": "code",
   "execution_count": 24,
   "id": "a5368e18",
   "metadata": {},
   "outputs": [
    {
     "data": {
      "image/png": "[encoded data removed]",
      "text/plain": [
       "<Figure size 864x432 with 1 Axes>"
      ]
     },
     "metadata": {
      "needs_background": "light"
     },
     "output_type": "display_data"
    }
   ],
   "source": [
    "ren_gen_df['S_solar'].plot(label = \"South Zone Solar\", figsize = (12,6))\n",
    "ren_gen_df['W_wind'].plot(label = \"West Zone Wind\", figsize = (12,6))\n",
    "plt.legend()\n",
    "plt.title(\"Renewable Generation Profiles\")\n",
    "plt.show()"
   ]
  },
  {
   "cell_type": "code",
   "execution_count": 25,
   "id": "88b37681",
   "metadata": {},
   "outputs": [
    {
     "data": {
      "text/html": [
       "<div>\n",
       "<style scoped>\n",
       "    .dataframe tbody tr th:only-of-type {\n",
       "        vertical-align: middle;\n",
       "    }\n",
       "\n",
       "    .dataframe tbody tr th {\n",
       "        vertical-align: top;\n",
       "    }\n",
       "\n",
       "    .dataframe thead th {\n",
       "        text-align: right;\n",
       "    }\n",
       "</style>\n",
       "<table border=\"1\" class=\"dataframe\">\n",
       "  <thead>\n",
       "    <tr style=\"text-align: right;\">\n",
       "      <th></th>\n",
       "      <th>bus</th>\n",
       "      <th>p_nom</th>\n",
       "      <th>marginal_cost</th>\n",
       "      <th>min_down_time</th>\n",
       "    </tr>\n",
       "  </thead>\n",
       "  <tbody>\n",
       "    <tr>\n",
       "      <th>N_solar</th>\n",
       "      <td>North</td>\n",
       "      <td>0</td>\n",
       "      <td>3</td>\n",
       "      <td>0</td>\n",
       "    </tr>\n",
       "    <tr>\n",
       "      <th>S_solar</th>\n",
       "      <td>South</td>\n",
       "      <td>7</td>\n",
       "      <td>3</td>\n",
       "      <td>0</td>\n",
       "    </tr>\n",
       "    <tr>\n",
       "      <th>W_solar</th>\n",
       "      <td>West</td>\n",
       "      <td>0</td>\n",
       "      <td>3</td>\n",
       "      <td>0</td>\n",
       "    </tr>\n",
       "    <tr>\n",
       "      <th>H_solar</th>\n",
       "      <td>Houston</td>\n",
       "      <td>0</td>\n",
       "      <td>3</td>\n",
       "      <td>0</td>\n",
       "    </tr>\n",
       "    <tr>\n",
       "      <th>N_wind</th>\n",
       "      <td>North</td>\n",
       "      <td>0</td>\n",
       "      <td>4</td>\n",
       "      <td>0</td>\n",
       "    </tr>\n",
       "  </tbody>\n",
       "</table>\n",
       "</div>"
      ],
      "text/plain": [
       "             bus  p_nom  marginal_cost  min_down_time\n",
       "N_solar    North      0              3              0\n",
       "S_solar    South      7              3              0\n",
       "W_solar     West      0              3              0\n",
       "H_solar  Houston      0              3              0\n",
       "N_wind     North      0              4              0"
      ]
     },
     "execution_count": 25,
     "metadata": {},
     "output_type": "execute_result"
    }
   ],
   "source": [
    "# GENERATOR DATAFRAME\n",
    "gen_df = pd.read_csv(\"generators_01.csv\", \n",
    "                    index_col = 0)\n",
    "gen_df.head()"
   ]
  },
  {
   "cell_type": "code",
   "execution_count": 26,
   "id": "2e22bc23",
   "metadata": {},
   "outputs": [
    {
     "name": "stdout",
     "output_type": "stream",
     "text": [
      "Assembling North zone Bus & Load data\n",
      "Assembling South zone Bus & Load data\n",
      "Assembling West zone Bus & Load data\n",
      "Assembling Houston zone Bus & Load data\n",
      "Adding Generation\n",
      "Adding Production profiles for renewables\n"
     ]
    },
    {
     "ename": "TypeError",
     "evalue": "import_series_from_dataframe() missing 2 required positional arguments: 'cls_name' and 'attr'",
     "output_type": "error",
     "traceback": [
      "\u001b[0;31m---------------------------------------------------------------------------\u001b[0m",
      "\u001b[0;31mTypeError\u001b[0m                                 Traceback (most recent call last)",
      "\u001b[0;32m<ipython-input-26-bb40c6bcf1ce>\u001b[0m in \u001b[0;36m<module>\u001b[0;34m\u001b[0m\n\u001b[1;32m     23\u001b[0m \u001b[0;31m# Also of interest is time varying costs, (esp. for Gas), but that's something to come b\u001b[0m\u001b[0;34m\u001b[0m\u001b[0;34m\u001b[0m\u001b[0;34m\u001b[0m\u001b[0m\n\u001b[1;32m     24\u001b[0m \u001b[0;31m# back to.\u001b[0m\u001b[0;34m\u001b[0m\u001b[0;34m\u001b[0m\u001b[0;34m\u001b[0m\u001b[0m\n\u001b[0;32m---> 25\u001b[0;31m \u001b[0mercot_model\u001b[0m\u001b[0;34m.\u001b[0m\u001b[0mimport_series_from_dataframe\u001b[0m\u001b[0;34m(\u001b[0m\u001b[0;34m\"ren_gen_df\"\u001b[0m\u001b[0;34m)\u001b[0m\u001b[0;34m\u001b[0m\u001b[0;34m\u001b[0m\u001b[0m\n\u001b[0m",
      "\u001b[0;31mTypeError\u001b[0m: import_series_from_dataframe() missing 2 required positional arguments: 'cls_name' and 'attr'"
     ]
    }
   ],
   "source": [
    "# MODEL ASSEMBLY\n",
    "ercot_model = pypsa.Network(snapshots = load_df.index)\n",
    "\n",
    "for zone in zones:\n",
    "    print(\"Assembling {} zone Bus & Load data\".format(zone))\n",
    "    # ADD BUSES\n",
    "    ercot_model.add(\"Bus\", zone)\n",
    "    \n",
    "    # ADD LOAD\n",
    "    ercot_model.add(\"Load\",\n",
    "               \"{} load\".format(zone), \n",
    "               bus = zone,\n",
    "               p_set = load_df[zone])\n",
    "    \n",
    "print(\"Adding Generation\")\n",
    "ercot_model.import_components_from_dataframe(gen_df, \"Generator\")\n",
    "\n",
    "print(\"Adding Production profiles for renewables\")\n",
    "# THIS IS KEY, Had to go into the google groups:\n",
    "# need to import time varying aspects as import_series_from_dataframe\n",
    "# https://groups.google.com/g/pypsa/c/TyrHiU4gGIo/m/0wyjCVw4AwAJ\n",
    "\n",
    "# Also of interest is time varying costs, (esp. for Gas), but that's something to come b\n",
    "# back to. \n",
    "ercot_model.import_series_from_dataframe(\"ren_gen_df\", \n",
    "                                        \"Generator\", \n",
    "                                        \"p_max_pu\")"
   ]
  },
  {
   "cell_type": "code",
   "execution_count": null,
   "id": "240a354e",
   "metadata": {},
   "outputs": [],
   "source": []
  }
 ],
 "metadata": {
  "kernelspec": {
   "display_name": "Python 3",
   "language": "python",
   "name": "python3"
  },
  "language_info": {
   "codemirror_mode": {
    "name": "ipython",
    "version": 3
   },
   "file_extension": ".py",
   "mimetype": "text/x-python",
   "name": "python",
   "nbconvert_exporter": "python",
   "pygments_lexer": "ipython3",
   "version": "3.8.10"
  }
 },
 "nbformat": 4,
 "nbformat_minor": 5
}
