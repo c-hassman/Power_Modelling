{
 "cells": [
  {
   "cell_type": "code",
   "execution_count": 1,
   "metadata": {},
   "outputs": [],
   "source": [
    "import pandas as pd\n",
    "import os\n",
    "import numpy as np\n",
    "import matplotlib.pyplot as plt"
   ]
  },
  {
   "cell_type": "code",
   "execution_count": 2,
   "metadata": {},
   "outputs": [],
   "source": [
    "os.chdir(r\"C:\\Users\\Colburn_Hassman\\Desktop\")"
   ]
  },
  {
   "cell_type": "code",
   "execution_count": 3,
   "metadata": {},
   "outputs": [
    {
     "data": {
      "text/html": [
       "<div>\n",
       "<style scoped>\n",
       "    .dataframe tbody tr th:only-of-type {\n",
       "        vertical-align: middle;\n",
       "    }\n",
       "\n",
       "    .dataframe tbody tr th {\n",
       "        vertical-align: top;\n",
       "    }\n",
       "\n",
       "    .dataframe thead th {\n",
       "        text-align: right;\n",
       "    }\n",
       "</style>\n",
       "<table border=\"1\" class=\"dataframe\">\n",
       "  <thead>\n",
       "    <tr style=\"text-align: right;\">\n",
       "      <th></th>\n",
       "      <th>STATION</th>\n",
       "      <th>NAME</th>\n",
       "      <th>DATE</th>\n",
       "      <th>AWND</th>\n",
       "      <th>PRCP</th>\n",
       "      <th>TAVG</th>\n",
       "      <th>TMAX</th>\n",
       "      <th>TMIN</th>\n",
       "      <th>TSUN</th>\n",
       "    </tr>\n",
       "  </thead>\n",
       "  <tbody>\n",
       "    <tr>\n",
       "      <th>0</th>\n",
       "      <td>USW00023044</td>\n",
       "      <td>EL PASO INTERNATIONAL AIRPORT, TX US</td>\n",
       "      <td>2002-01-01</td>\n",
       "      <td>5.59</td>\n",
       "      <td>0.0</td>\n",
       "      <td>38.0</td>\n",
       "      <td>43.0</td>\n",
       "      <td>32.0</td>\n",
       "      <td>0.0</td>\n",
       "    </tr>\n",
       "    <tr>\n",
       "      <th>1</th>\n",
       "      <td>USW00023044</td>\n",
       "      <td>EL PASO INTERNATIONAL AIRPORT, TX US</td>\n",
       "      <td>2002-01-02</td>\n",
       "      <td>6.26</td>\n",
       "      <td>0.0</td>\n",
       "      <td>34.0</td>\n",
       "      <td>39.0</td>\n",
       "      <td>29.0</td>\n",
       "      <td>0.0</td>\n",
       "    </tr>\n",
       "    <tr>\n",
       "      <th>2</th>\n",
       "      <td>USW00023044</td>\n",
       "      <td>EL PASO INTERNATIONAL AIRPORT, TX US</td>\n",
       "      <td>2002-01-03</td>\n",
       "      <td>3.36</td>\n",
       "      <td>0.0</td>\n",
       "      <td>37.0</td>\n",
       "      <td>50.0</td>\n",
       "      <td>23.0</td>\n",
       "      <td>0.0</td>\n",
       "    </tr>\n",
       "    <tr>\n",
       "      <th>3</th>\n",
       "      <td>USW00023044</td>\n",
       "      <td>EL PASO INTERNATIONAL AIRPORT, TX US</td>\n",
       "      <td>2002-01-04</td>\n",
       "      <td>12.53</td>\n",
       "      <td>0.0</td>\n",
       "      <td>47.0</td>\n",
       "      <td>59.0</td>\n",
       "      <td>34.0</td>\n",
       "      <td>0.0</td>\n",
       "    </tr>\n",
       "    <tr>\n",
       "      <th>4</th>\n",
       "      <td>USW00023044</td>\n",
       "      <td>EL PASO INTERNATIONAL AIRPORT, TX US</td>\n",
       "      <td>2002-01-05</td>\n",
       "      <td>3.58</td>\n",
       "      <td>0.0</td>\n",
       "      <td>41.0</td>\n",
       "      <td>52.0</td>\n",
       "      <td>30.0</td>\n",
       "      <td>0.0</td>\n",
       "    </tr>\n",
       "  </tbody>\n",
       "</table>\n",
       "</div>"
      ],
      "text/plain": [
       "       STATION                                  NAME        DATE   AWND  PRCP  \\\n",
       "0  USW00023044  EL PASO INTERNATIONAL AIRPORT, TX US  2002-01-01   5.59   0.0   \n",
       "1  USW00023044  EL PASO INTERNATIONAL AIRPORT, TX US  2002-01-02   6.26   0.0   \n",
       "2  USW00023044  EL PASO INTERNATIONAL AIRPORT, TX US  2002-01-03   3.36   0.0   \n",
       "3  USW00023044  EL PASO INTERNATIONAL AIRPORT, TX US  2002-01-04  12.53   0.0   \n",
       "4  USW00023044  EL PASO INTERNATIONAL AIRPORT, TX US  2002-01-05   3.58   0.0   \n",
       "\n",
       "   TAVG  TMAX  TMIN  TSUN  \n",
       "0  38.0  43.0  32.0   0.0  \n",
       "1  34.0  39.0  29.0   0.0  \n",
       "2  37.0  50.0  23.0   0.0  \n",
       "3  47.0  59.0  34.0   0.0  \n",
       "4  41.0  52.0  30.0   0.0  "
      ]
     },
     "execution_count": 3,
     "metadata": {},
     "output_type": "execute_result"
    }
   ],
   "source": [
    "data = pd.read_csv(\"weather_01.csv\")\n",
    "data.head()"
   ]
  },
  {
   "cell_type": "code",
   "execution_count": 4,
   "metadata": {},
   "outputs": [
    {
     "data": {
      "text/plain": [
       "array(['EL PASO INTERNATIONAL AIRPORT, TX US',\n",
       "       'CORPUS CHRISTI INTERNATIONAL AIRPORT, TX US',\n",
       "       'HOUSTON INTERCONTINENTAL AIRPORT, TX US',\n",
       "       'SAN ANTONIO STINSON MUNICIPAL AIRPORT, TX US',\n",
       "       'DALLAS FAA AIRPORT, TX US'], dtype=object)"
      ]
     },
     "execution_count": 4,
     "metadata": {},
     "output_type": "execute_result"
    }
   ],
   "source": [
    "data['NAME'].unique()"
   ]
  },
  {
   "cell_type": "code",
   "execution_count": 5,
   "metadata": {},
   "outputs": [],
   "source": [
    "# This should be generalized to the other ones... not sure I can loop and stuff\n",
    "h"
   ]
  },
  {
   "cell_type": "code",
   "execution_count": 6,
   "metadata": {},
   "outputs": [
    {
     "name": "stdout",
     "output_type": "stream",
     "text": [
      "STATION                             USW00023044\n",
      "NAME       EL PASO INTERNATIONAL AIRPORT, TX US\n",
      "DATE                                 2002-01-09\n",
      "AWND                                       5.59\n",
      "PRCP                                          0\n",
      "TAVG                                         51\n",
      "TMAX                                         68\n",
      "TMIN                                         33\n",
      "TSUN                                          0\n",
      "AMP                                        17.5\n",
      "TAVG_1                                       54\n",
      "AMP_1                                        11\n",
      "Name: 8, dtype: object\n"
     ]
    },
    {
     "name": "stderr",
     "output_type": "stream",
     "text": [
      "C:\\Users\\Colburn_Hassman\\Anaconda3\\lib\\site-packages\\ipykernel_launcher.py:4: SettingWithCopyWarning: \n",
      "A value is trying to be set on a copy of a slice from a DataFrame.\n",
      "Try using .loc[row_indexer,col_indexer] = value instead\n",
      "\n",
      "See the caveats in the documentation: https://pandas.pydata.org/pandas-docs/stable/user_guide/indexing.html#returning-a-view-versus-a-copy\n",
      "  after removing the cwd from sys.path.\n",
      "C:\\Users\\Colburn_Hassman\\Anaconda3\\lib\\site-packages\\ipykernel_launcher.py:5: SettingWithCopyWarning: \n",
      "A value is trying to be set on a copy of a slice from a DataFrame.\n",
      "Try using .loc[row_indexer,col_indexer] = value instead\n",
      "\n",
      "See the caveats in the documentation: https://pandas.pydata.org/pandas-docs/stable/user_guide/indexing.html#returning-a-view-versus-a-copy\n",
      "  \"\"\"\n",
      "C:\\Users\\Colburn_Hassman\\Anaconda3\\lib\\site-packages\\ipykernel_launcher.py:6: SettingWithCopyWarning: \n",
      "A value is trying to be set on a copy of a slice from a DataFrame.\n",
      "Try using .loc[row_indexer,col_indexer] = value instead\n",
      "\n",
      "See the caveats in the documentation: https://pandas.pydata.org/pandas-docs/stable/user_guide/indexing.html#returning-a-view-versus-a-copy\n",
      "  \n"
     ]
    }
   ],
   "source": [
    "# The real challenge is converting from min max to average\n",
    "\n",
    "# choose a day to work from\n",
    "EL_PASO['AMP'] = (EL_PASO['TMAX'] - EL_PASO['TMIN'])/2\n",
    "EL_PASO['TAVG_1'] = EL_PASO['TAVG'].shift(-1)\n",
    "EL_PASO['AMP_1'] = EL_PASO['AMP'].shift(-1)\n",
    "d_temp = EL_PASO.iloc[8]\n",
    "print(d_temp)"
   ]
  },
  {
   "cell_type": "code",
   "execution_count": 7,
   "metadata": {},
   "outputs": [
    {
     "data": {
      "text/html": [
       "<div>\n",
       "<style scoped>\n",
       "    .dataframe tbody tr th:only-of-type {\n",
       "        vertical-align: middle;\n",
       "    }\n",
       "\n",
       "    .dataframe tbody tr th {\n",
       "        vertical-align: top;\n",
       "    }\n",
       "\n",
       "    .dataframe thead th {\n",
       "        text-align: right;\n",
       "    }\n",
       "</style>\n",
       "<table border=\"1\" class=\"dataframe\">\n",
       "  <thead>\n",
       "    <tr style=\"text-align: right;\">\n",
       "      <th></th>\n",
       "      <th>STATION</th>\n",
       "      <th>NAME</th>\n",
       "      <th>DATE</th>\n",
       "      <th>AWND</th>\n",
       "      <th>PRCP</th>\n",
       "      <th>TAVG</th>\n",
       "      <th>TMAX</th>\n",
       "      <th>TMIN</th>\n",
       "      <th>TSUN</th>\n",
       "      <th>AMP</th>\n",
       "      <th>TAVG_1</th>\n",
       "      <th>AMP_1</th>\n",
       "    </tr>\n",
       "  </thead>\n",
       "  <tbody>\n",
       "    <tr>\n",
       "      <th>0</th>\n",
       "      <td>USW00023044</td>\n",
       "      <td>EL PASO INTERNATIONAL AIRPORT, TX US</td>\n",
       "      <td>2002-01-01</td>\n",
       "      <td>5.59</td>\n",
       "      <td>0.0</td>\n",
       "      <td>38.0</td>\n",
       "      <td>43.0</td>\n",
       "      <td>32.0</td>\n",
       "      <td>0.0</td>\n",
       "      <td>5.5</td>\n",
       "      <td>34.0</td>\n",
       "      <td>5.0</td>\n",
       "    </tr>\n",
       "    <tr>\n",
       "      <th>1</th>\n",
       "      <td>USW00023044</td>\n",
       "      <td>EL PASO INTERNATIONAL AIRPORT, TX US</td>\n",
       "      <td>2002-01-02</td>\n",
       "      <td>6.26</td>\n",
       "      <td>0.0</td>\n",
       "      <td>34.0</td>\n",
       "      <td>39.0</td>\n",
       "      <td>29.0</td>\n",
       "      <td>0.0</td>\n",
       "      <td>5.0</td>\n",
       "      <td>37.0</td>\n",
       "      <td>13.5</td>\n",
       "    </tr>\n",
       "    <tr>\n",
       "      <th>2</th>\n",
       "      <td>USW00023044</td>\n",
       "      <td>EL PASO INTERNATIONAL AIRPORT, TX US</td>\n",
       "      <td>2002-01-03</td>\n",
       "      <td>3.36</td>\n",
       "      <td>0.0</td>\n",
       "      <td>37.0</td>\n",
       "      <td>50.0</td>\n",
       "      <td>23.0</td>\n",
       "      <td>0.0</td>\n",
       "      <td>13.5</td>\n",
       "      <td>47.0</td>\n",
       "      <td>12.5</td>\n",
       "    </tr>\n",
       "    <tr>\n",
       "      <th>3</th>\n",
       "      <td>USW00023044</td>\n",
       "      <td>EL PASO INTERNATIONAL AIRPORT, TX US</td>\n",
       "      <td>2002-01-04</td>\n",
       "      <td>12.53</td>\n",
       "      <td>0.0</td>\n",
       "      <td>47.0</td>\n",
       "      <td>59.0</td>\n",
       "      <td>34.0</td>\n",
       "      <td>0.0</td>\n",
       "      <td>12.5</td>\n",
       "      <td>41.0</td>\n",
       "      <td>11.0</td>\n",
       "    </tr>\n",
       "    <tr>\n",
       "      <th>4</th>\n",
       "      <td>USW00023044</td>\n",
       "      <td>EL PASO INTERNATIONAL AIRPORT, TX US</td>\n",
       "      <td>2002-01-05</td>\n",
       "      <td>3.58</td>\n",
       "      <td>0.0</td>\n",
       "      <td>41.0</td>\n",
       "      <td>52.0</td>\n",
       "      <td>30.0</td>\n",
       "      <td>0.0</td>\n",
       "      <td>11.0</td>\n",
       "      <td>41.0</td>\n",
       "      <td>16.0</td>\n",
       "    </tr>\n",
       "  </tbody>\n",
       "</table>\n",
       "</div>"
      ],
      "text/plain": [
       "       STATION                                  NAME        DATE   AWND  PRCP  \\\n",
       "0  USW00023044  EL PASO INTERNATIONAL AIRPORT, TX US  2002-01-01   5.59   0.0   \n",
       "1  USW00023044  EL PASO INTERNATIONAL AIRPORT, TX US  2002-01-02   6.26   0.0   \n",
       "2  USW00023044  EL PASO INTERNATIONAL AIRPORT, TX US  2002-01-03   3.36   0.0   \n",
       "3  USW00023044  EL PASO INTERNATIONAL AIRPORT, TX US  2002-01-04  12.53   0.0   \n",
       "4  USW00023044  EL PASO INTERNATIONAL AIRPORT, TX US  2002-01-05   3.58   0.0   \n",
       "\n",
       "   TAVG  TMAX  TMIN  TSUN   AMP  TAVG_1  AMP_1  \n",
       "0  38.0  43.0  32.0   0.0   5.5    34.0    5.0  \n",
       "1  34.0  39.0  29.0   0.0   5.0    37.0   13.5  \n",
       "2  37.0  50.0  23.0   0.0  13.5    47.0   12.5  \n",
       "3  47.0  59.0  34.0   0.0  12.5    41.0   11.0  \n",
       "4  41.0  52.0  30.0   0.0  11.0    41.0   16.0  "
      ]
     },
     "execution_count": 7,
     "metadata": {},
     "output_type": "execute_result"
    }
   ],
   "source": [
    "EL_PASO.head()"
   ]
  },
  {
   "cell_type": "code",
   "execution_count": null,
   "metadata": {},
   "outputs": [],
   "source": []
  },
  {
   "cell_type": "code",
   "execution_count": 8,
   "metadata": {},
   "outputs": [],
   "source": [
    "hours = np.arange(0,24) # add step with another column\n",
    "temp = []\n",
    "RISE = 8\n",
    "for hour in hours:\n",
    "    if hour <= RISE:\n",
    "        t = d_temp['TAVG'] - d_temp['AMP'] * (np.cos((np.pi*hour/(10+RISE))))\n",
    "        temp.append(t)\n",
    "    elif hour > RISE & hour <= 14:\n",
    "        t = d_temp['TAVG'] + d_temp['AMP'] * (np.cos((np.pi*(hour-RISE)/14-RISE)))\n",
    "        temp.append(t)\n",
    "    else:\n",
    "        t = d_temp['TAVG'] - d_temp['AMP'] * (np.cos((np.pi*hour/(10+RISE))))\n",
    "        temp.append(t)\n",
    "                                            \n"
   ]
  },
  {
   "cell_type": "code",
   "execution_count": 9,
   "metadata": {},
   "outputs": [
    {
     "data": {
      "text/plain": [
       "[<matplotlib.lines.Line2D at 0x1d07f4b7088>]"
      ]
     },
     "execution_count": 9,
     "metadata": {},
     "output_type": "execute_result"
    },
    {
     "data": {
      "image/png": "[encoded data removed]",
      "text/plain": [
       "<Figure size 432x288 with 1 Axes>"
      ]
     },
     "metadata": {
      "needs_background": "light"
     },
     "output_type": "display_data"
    }
   ],
   "source": [
    "plt.plot(hours, temp)"
   ]
  },
  {
   "cell_type": "code",
   "execution_count": 10,
   "metadata": {},
   "outputs": [
    {
     "name": "stdout",
     "output_type": "stream",
     "text": [
      "68.446271030898 33.5\n"
     ]
    }
   ],
   "source": [
    "# Max and Min temps line up with actual.\n",
    "print(max(temp), min(temp))"
   ]
  },
  {
   "cell_type": "code",
   "execution_count": 11,
   "metadata": {
    "scrolled": true
   },
   "outputs": [
    {
     "name": "stdout",
     "output_type": "stream",
     "text": [
      "['2002-01-09 00:00', '2002-01-09 01:00', '2002-01-09 02:00', '2002-01-09 03:00', '2002-01-09 04:00', '2002-01-09 05:00', '2002-01-09 06:00', '2002-01-09 07:00', '2002-01-09 08:00', '2002-01-09 09:00', '2002-01-09 10:00', '2002-01-09 11:00', '2002-01-09 12:00', '2002-01-09 13:00', '2002-01-09 14:00', '2002-01-09 15:00', '2002-01-09 16:00', '2002-01-09 17:00', '2002-01-09 18:00', '2002-01-09 19:00', '2002-01-09 20:00', '2002-01-09 21:00', '2002-01-09 22:00', '2002-01-09 23:00']\n"
     ]
    }
   ],
   "source": [
    "date_time = []\n",
    "for hour in hours:\n",
    "    time = \"{:02d}:00\".format(hour)\n",
    "    date_time.append(d_temp['DATE'] + \" \" + time)\n",
    "    \n",
    "print(date_time)"
   ]
  },
  {
   "cell_type": "code",
   "execution_count": 49,
   "metadata": {},
   "outputs": [
    {
     "data": {
      "image/png": "[encoded data removed]",
      "text/plain": [
       "<Figure size 864x432 with 1 Axes>"
      ]
     },
     "metadata": {
      "needs_background": "light"
     },
     "output_type": "display_data"
    }
   ],
   "source": [
    "# make a function of the above \n",
    "def hourly(row):\n",
    "    hours = np.arange(0,24) # add step with another column\n",
    "    date_time = []\n",
    "    temp = []\n",
    "    RISE = 8\n",
    "    for hour in hours:\n",
    "        # Make timestamp\n",
    "        time = \"{:02d}:00\".format(hour)\n",
    "        date_time.append(row['DATE'] + \" \" + time)\n",
    "        # Make temperature\n",
    "        if hour <= RISE:\n",
    "            t = row['TAVG'] - row['AMP'] * (np.cos((np.pi*hour/(10+RISE))))\n",
    "            temp.append(t)\n",
    "        elif hour > RISE & hour <= 14:\n",
    "            t = row['TAVG'] + row['AMP'] * (np.cos((np.pi*(hour-RISE)/14-RISE)))\n",
    "            temp.append(t)\n",
    "        else:\n",
    "            t = row['TAVG_1'] - row['AMP_1'] * (np.cos((np.pi*hour/(10+RISE))))\n",
    "            temp.append(t)\n",
    "        \n",
    "    return date_time, temp\n",
    "    \n",
    "df =  EL_PASO.iloc[0:21]\n",
    "Date = []\n",
    "Temperature = []\n",
    "for index, row in df.iterrows():\n",
    "    date, temp = hourly(row) # returns lists of hourly timestamps and temperature estimates\n",
    "    # Unpacks the lists and appends them individually\n",
    "    for time in date:\n",
    "        Date.append(time)\n",
    "    for t in temp:\n",
    "        Temperature.append(t)\n",
    "        \n",
    "temp_df = pd.DataFrame()\n",
    "temp_df['Date'] = Date\n",
    "temp_df['Temp'] = Temperature\n",
    "\n",
    "temp_df['Date'] = pd.to_datetime(temp_df['Date'])\n",
    "temp_df.set_index(\"Date\", inplace = True)\n",
    "\n",
    "\n",
    "plt.figure(figsize = (12,6))\n",
    "plt.plot(temp_df.index, temp_df['Temp'], color = 'k')\n",
    "plt.xlabel(\"Date\")\n",
    "plt.ylabel(\"Temperature\")\n",
    "plt.ylim(20,80)\n",
    "plt.show()\n"
   ]
  },
  {
   "cell_type": "code",
   "execution_count": 32,
   "metadata": {},
   "outputs": [],
   "source": []
  },
  {
   "cell_type": "code",
   "execution_count": 30,
   "metadata": {},
   "outputs": [
    {
     "data": {
      "image/png": "[encoded data removed]",
      "text/plain": [
       "<Figure size 432x288 with 1 Axes>"
      ]
     },
     "metadata": {
      "needs_background": "light"
     },
     "output_type": "display_data"
    }
   ],
   "source": []
  },
  {
   "cell_type": "code",
   "execution_count": 15,
   "metadata": {},
   "outputs": [
    {
     "name": "stdout",
     "output_type": "stream",
     "text": [
      "                          Temp\n",
      "Date                          \n",
      "2002-01-01 00:00:00  32.500000\n",
      "2002-01-01 01:00:00  32.583557\n",
      "2002-01-01 02:00:00  32.831691\n",
      "2002-01-01 03:00:00  33.236860\n",
      "2002-01-01 04:00:00  33.786756\n",
      "...                        ...\n",
      "2002-01-03 19:00:00  46.863252\n",
      "2002-01-03 20:00:00  44.564826\n",
      "2002-01-03 21:00:00  41.887067\n",
      "2002-01-03 22:00:00  38.964250\n",
      "2002-01-03 23:00:00  35.942938\n",
      "\n",
      "[72 rows x 1 columns]\n"
     ]
    }
   ],
   "source": [
    "print(temp_df)"
   ]
  }
 ],
 "metadata": {
  "kernelspec": {
   "display_name": "Python 3",
   "language": "python",
   "name": "python3"
  },
  "language_info": {
   "codemirror_mode": {
    "name": "ipython",
    "version": 3
   },
   "file_extension": ".py",
   "mimetype": "text/x-python",
   "name": "python",
   "nbconvert_exporter": "python",
   "pygments_lexer": "ipython3",
   "version": "3.7.7"
  }
 },
 "nbformat": 4,
 "nbformat_minor": 4
}
