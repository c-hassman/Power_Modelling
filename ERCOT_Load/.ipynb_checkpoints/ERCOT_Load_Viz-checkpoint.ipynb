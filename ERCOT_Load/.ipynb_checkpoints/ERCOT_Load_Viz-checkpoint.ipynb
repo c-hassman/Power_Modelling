{
 "cells": [
  {
   "cell_type": "code",
   "execution_count": 13,
   "id": "77a8fb8f",
   "metadata": {},
   "outputs": [],
   "source": [
    "import pandas as pd\n",
    "import matplotlib.pyplot as plt\n",
    "import os\n",
    "os.chdir(\"/home/colburn/Documents/Power_Modelling/ERCOT_Load\")\n"
   ]
  },
  {
   "cell_type": "code",
   "execution_count": 14,
   "id": "c59e9f6c",
   "metadata": {},
   "outputs": [
    {
     "data": {
      "text/html": [
       "<div>\n",
       "<style scoped>\n",
       "    .dataframe tbody tr th:only-of-type {\n",
       "        vertical-align: middle;\n",
       "    }\n",
       "\n",
       "    .dataframe tbody tr th {\n",
       "        vertical-align: top;\n",
       "    }\n",
       "\n",
       "    .dataframe thead th {\n",
       "        text-align: right;\n",
       "    }\n",
       "</style>\n",
       "<table border=\"1\" class=\"dataframe\">\n",
       "  <thead>\n",
       "    <tr style=\"text-align: right;\">\n",
       "      <th></th>\n",
       "      <th>COAST</th>\n",
       "      <th>EAST</th>\n",
       "      <th>FAR_WEST</th>\n",
       "      <th>NORTH</th>\n",
       "      <th>NORTH_CENTRAL</th>\n",
       "      <th>SOUTH</th>\n",
       "      <th>SOUTH_CENTRAL</th>\n",
       "      <th>WEST</th>\n",
       "      <th>ERCOT</th>\n",
       "    </tr>\n",
       "    <tr>\n",
       "      <th>Hour_End</th>\n",
       "      <th></th>\n",
       "      <th></th>\n",
       "      <th></th>\n",
       "      <th></th>\n",
       "      <th></th>\n",
       "      <th></th>\n",
       "      <th></th>\n",
       "      <th></th>\n",
       "      <th></th>\n",
       "    </tr>\n",
       "  </thead>\n",
       "  <tbody>\n",
       "    <tr>\n",
       "      <th>2002-01-01 01:00:00-06:00</th>\n",
       "      <td>8331.469266</td>\n",
       "      <td>1111.096549</td>\n",
       "      <td>1094.045496</td>\n",
       "      <td>995.298392</td>\n",
       "      <td>10336.304899</td>\n",
       "      <td>2165.007571</td>\n",
       "      <td>4793.193560</td>\n",
       "      <td>843.747177</td>\n",
       "      <td>29670.162911</td>\n",
       "    </tr>\n",
       "    <tr>\n",
       "      <th>2002-01-01 02:00:00-06:00</th>\n",
       "      <td>8107.805431</td>\n",
       "      <td>1091.481584</td>\n",
       "      <td>1083.517981</td>\n",
       "      <td>981.195477</td>\n",
       "      <td>10178.052738</td>\n",
       "      <td>2092.374118</td>\n",
       "      <td>4766.918187</td>\n",
       "      <td>835.488188</td>\n",
       "      <td>29136.833703</td>\n",
       "    </tr>\n",
       "    <tr>\n",
       "      <th>2002-01-01 03:00:00-06:00</th>\n",
       "      <td>7890.721717</td>\n",
       "      <td>1080.257616</td>\n",
       "      <td>1085.038740</td>\n",
       "      <td>971.305257</td>\n",
       "      <td>10100.887710</td>\n",
       "      <td>2042.080714</td>\n",
       "      <td>4702.918892</td>\n",
       "      <td>830.694878</td>\n",
       "      <td>28703.905525</td>\n",
       "    </tr>\n",
       "    <tr>\n",
       "      <th>2002-01-01 04:00:00-06:00</th>\n",
       "      <td>7799.817527</td>\n",
       "      <td>1079.726403</td>\n",
       "      <td>1093.381853</td>\n",
       "      <td>971.262963</td>\n",
       "      <td>10081.565109</td>\n",
       "      <td>2011.935791</td>\n",
       "      <td>4669.064391</td>\n",
       "      <td>835.068413</td>\n",
       "      <td>28541.822450</td>\n",
       "    </tr>\n",
       "    <tr>\n",
       "      <th>2002-01-01 05:00:00-06:00</th>\n",
       "      <td>7815.968171</td>\n",
       "      <td>1087.934961</td>\n",
       "      <td>1106.651296</td>\n",
       "      <td>982.535591</td>\n",
       "      <td>10192.218670</td>\n",
       "      <td>2002.487678</td>\n",
       "      <td>4695.011904</td>\n",
       "      <td>848.598209</td>\n",
       "      <td>28731.406478</td>\n",
       "    </tr>\n",
       "  </tbody>\n",
       "</table>\n",
       "</div>"
      ],
      "text/plain": [
       "                                 COAST         EAST     FAR_WEST       NORTH  \\\n",
       "Hour_End                                                                       \n",
       "2002-01-01 01:00:00-06:00  8331.469266  1111.096549  1094.045496  995.298392   \n",
       "2002-01-01 02:00:00-06:00  8107.805431  1091.481584  1083.517981  981.195477   \n",
       "2002-01-01 03:00:00-06:00  7890.721717  1080.257616  1085.038740  971.305257   \n",
       "2002-01-01 04:00:00-06:00  7799.817527  1079.726403  1093.381853  971.262963   \n",
       "2002-01-01 05:00:00-06:00  7815.968171  1087.934961  1106.651296  982.535591   \n",
       "\n",
       "                           NORTH_CENTRAL        SOUTH  SOUTH_CENTRAL  \\\n",
       "Hour_End                                                               \n",
       "2002-01-01 01:00:00-06:00   10336.304899  2165.007571    4793.193560   \n",
       "2002-01-01 02:00:00-06:00   10178.052738  2092.374118    4766.918187   \n",
       "2002-01-01 03:00:00-06:00   10100.887710  2042.080714    4702.918892   \n",
       "2002-01-01 04:00:00-06:00   10081.565109  2011.935791    4669.064391   \n",
       "2002-01-01 05:00:00-06:00   10192.218670  2002.487678    4695.011904   \n",
       "\n",
       "                                 WEST         ERCOT  \n",
       "Hour_End                                             \n",
       "2002-01-01 01:00:00-06:00  843.747177  29670.162911  \n",
       "2002-01-01 02:00:00-06:00  835.488188  29136.833703  \n",
       "2002-01-01 03:00:00-06:00  830.694878  28703.905525  \n",
       "2002-01-01 04:00:00-06:00  835.068413  28541.822450  \n",
       "2002-01-01 05:00:00-06:00  848.598209  28731.406478  "
      ]
     },
     "execution_count": 14,
     "metadata": {},
     "output_type": "execute_result"
    }
   ],
   "source": [
    "load = pd.read_pickle(\"ERCOT_Load.pkl\")\n",
    "#load = load.set_index(\"Hour_End\")\n",
    "load.head()"
   ]
  },
  {
   "cell_type": "code",
   "execution_count": 15,
   "id": "891b979b",
   "metadata": {},
   "outputs": [
    {
     "data": {
      "text/plain": [
       "<AxesSubplot:xlabel='Hour_End'>"
      ]
     },
     "execution_count": 15,
     "metadata": {},
     "output_type": "execute_result"
    },
    {
     "data": {
      "image/png": "[encoded data removed]",
      "text/plain": [
       "<Figure size 432x288 with 1 Axes>"
      ]
     },
     "metadata": {
      "needs_background": "light"
     },
     "output_type": "display_data"
    }
   ],
   "source": [
    "load['SOUTH'].plot()"
   ]
  }
 ],
 "metadata": {
  "kernelspec": {
   "display_name": "Python 3",
   "language": "python",
   "name": "python3"
  },
  "language_info": {
   "codemirror_mode": {
    "name": "ipython",
    "version": 3
   },
   "file_extension": ".py",
   "mimetype": "text/x-python",
   "name": "python",
   "nbconvert_exporter": "python",
   "pygments_lexer": "ipython3",
   "version": "3.8.10"
  }
 },
 "nbformat": 4,
 "nbformat_minor": 5
}
